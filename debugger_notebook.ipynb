{
 "metadata": {
  "language_info": {
   "codemirror_mode": {
    "name": "ipython",
    "version": 3
   },
   "file_extension": ".py",
   "mimetype": "text/x-python",
   "name": "python",
   "nbconvert_exporter": "python",
   "pygments_lexer": "ipython3",
   "version": "3.9.1-final"
  },
  "orig_nbformat": 2,
  "kernelspec": {
   "name": "python3",
   "display_name": "Python 3.9.1 64-bit",
   "metadata": {
    "interpreter": {
     "hash": "ee5cc6fef2d70a7e71ee3826687cbd150f18158e0b1eef11d4f4f92bb920e304"
    }
   }
  }
 },
 "nbformat": 4,
 "nbformat_minor": 2,
 "cells": [
  {
   "cell_type": "code",
   "execution_count": 1,
   "metadata": {},
   "outputs": [],
   "source": [
    "import operator as op\n",
    "import src.ea.ea_lib as ea\n",
    "import src.ea.problem_data as pb\n",
    "import src.ea.utilities as ut\n",
    "import random as rd\n",
    "import time\n",
    "import numpy as np"
   ]
  },
  {
   "source": [
    "#parameters\n",
    "rd.seed(1)\n",
    "population_size = 10\n",
    "problem_name = \"spect\"\n",
    "levels_back = 2\n",
    "n_rows = 4\n",
    "n_columns = 9\n",
    "allow_input_to_output = False\n",
    "inputs_available_to_all_columns = False\n",
    "functions = [op.add,op.sub,op.mul,ut.safe_divide_one]\n",
    "objectives = [\n",
    "    ea.Objective(name=\"acc0\", to_max = True, best=1, worst=0),\n",
    "    ea.Objective(name=\"acc1\", to_max = True, best=1, worst=0)\n",
    "    ]"
   ],
   "cell_type": "code",
   "metadata": {},
   "execution_count": 2,
   "outputs": []
  },
  {
   "cell_type": "code",
   "execution_count": 3,
   "metadata": {},
   "outputs": [],
   "source": [
    "#Definition\n",
    "dataset = pb.Dataset()\n",
    "dataset.load_problem(name = problem_name)\n",
    "cgp = ea.CGP_Representation(\n",
    "            dataset.x_train.shape[1]\n",
    "            ,1\n",
    "            ,levels_back\n",
    "            ,n_rows \n",
    "            ,n_columns\n",
    "            ,allow_input_to_output\n",
    "            ,inputs_available_to_all_columns\n",
    "            ,*functions)"
   ]
  },
  {
   "cell_type": "code",
   "execution_count": 4,
   "metadata": {},
   "outputs": [
    {
     "output_type": "stream",
     "name": "stdout",
     "text": [
      "Execution time:  0.04590463638305664\nMean acc0 0.31348314606741573\nMean acc1 0.0951310861423221\nMean active nodes 6.0\n"
     ]
    }
   ],
   "source": [
    "#Execution\n",
    "start_t = time.time()\n",
    "\n",
    "generation = 0\n",
    "#Random initial population. Specific initial conditions for the population can be specified here\n",
    "graphs = [cgp.create_random(seed = rd.random()) for _ in range(population_size)]\n",
    "#create instances of Individual to be grouped in the population\n",
    "population = [ea.Individual(r,generation) for r in graphs]\n",
    "for ind in population:\n",
    "    outputs = {}\n",
    "    for i,data_row in enumerate(dataset.x_train):\n",
    "        output_dict = ind.representation.evaluate(data_row = data_row)\n",
    "        #Extracting the 0th index output gene\n",
    "        output = output_dict[0]\n",
    "        #The raw output needs to be transformed, in this case it is simply rounded to the closest int\n",
    "        output_rounded = ut.custom_round(output)\n",
    "        outputs[i] = output_rounded\n",
    "    #Each objective has its own evaluation method\n",
    "    acc0 = ut.accuracy_in_label(y=dataset.y_train, y_output=outputs, label = 0)\n",
    "    acc1 = ut.accuracy_in_label(y=dataset.y_train, y_output=outputs, label = 1)\n",
    "    ind.update_evaluation(objective=objectives[0],value=acc0)\n",
    "    ind.update_evaluation(objective=objectives[1],value=acc1)\n",
    "    ind.update_semantics_all(semantics_all = outputs)\n",
    "\n",
    "print(\"Execution time: \",str(time.time()-start_t))\n",
    "\n",
    "evals0 = []\n",
    "evals1 = []\n",
    "actives = []\n",
    "for i,ind in enumerate(population):\n",
    "    evals0.append(ind.evaluations[objectives[0].name])\n",
    "    evals1.append(ind.evaluations[objectives[1].name])\n",
    "    actives.append(len(ind.representation.active_genotype))\n",
    "print(\"Mean acc0\", np.mean(evals0))\n",
    "print(\"Mean acc1\", np.mean(evals1))\n",
    "print(\"Mean active nodes\", np.mean(actives))"
   ]
  },
  {
   "cell_type": "code",
   "execution_count": 7,
   "metadata": {},
   "outputs": [
    {
     "output_type": "stream",
     "name": "stdout",
     "text": [
      "{'acc0': 0.5880149812734082, 'acc1': 0.0}\n{'acc0': 0.1198501872659176, 'acc1': 0.3408239700374532}\n{'acc0': 0.26217228464419473, 'acc1': 0.0}\n{'acc0': 0.5280898876404494, 'acc1': 0.09363295880149813}\n{'acc0': 0.1647940074906367, 'acc1': 0.19850187265917604}\n{'acc0': 0.5280898876404494, 'acc1': 0.018726591760299626}\n{'acc0': 0.0, 'acc1': 0.2808988764044944}\n{'acc0': 0.36329588014981273, 'acc1': 0.0}\n{'acc0': 0.08239700374531835, 'acc1': 0.0}\n{'acc0': 0.49812734082397003, 'acc1': 0.018726591760299626}\n"
     ]
    }
   ],
   "source": [
    "for ind in population:\n",
    "    print(ind.evaluations)\n"
   ]
  },
  {
   "cell_type": "code",
   "execution_count": 6,
   "metadata": {},
   "outputs": [
    {
     "output_type": "stream",
     "name": "stdout",
     "text": [
      "{'acc0': 0.5880149812734082, 'acc1': 0.0}\n{'acc0': 0.5280898876404494, 'acc1': 0.09363295880149813}\n{'acc0': 0.5280898876404494, 'acc1': 0.018726591760299626}\n{'acc0': 0.49812734082397003, 'acc1': 0.018726591760299626}\n{'acc0': 0.36329588014981273, 'acc1': 0.0}\n{'acc0': 0.26217228464419473, 'acc1': 0.0}\n{'acc0': 0.1647940074906367, 'acc1': 0.19850187265917604}\n{'acc0': 0.1198501872659176, 'acc1': 0.3408239700374532}\n{'acc0': 0.08239700374531835, 'acc1': 0.0}\n{'acc0': 0.0, 'acc1': 0.2808988764044944}\n"
     ]
    }
   ],
   "source": [
    "sorted_pop = ea.sort_population(population,objectives)\n",
    "for ind in sorted_pop:\n",
    "    print(ind.evaluations)"
   ]
  },
  {
   "cell_type": "code",
   "execution_count": 43,
   "metadata": {},
   "outputs": [
    {
     "output_type": "stream",
     "name": "stdout",
     "text": [
      "{'acc0': 0.5280898876404494, 'acc1': 0.09363295880149813}\n"
     ]
    }
   ],
   "source": [
    "tournament_size = 4\n",
    "population_size = len(population)\n",
    "competitors = rd.sample(population,k=tournament_size)\n",
    "winner = ea.sort_population(population=competitors, objectives = objectives)[0]\n",
    "print(winner.evaluations)\n",
    "    "
   ]
  },
  {
   "cell_type": "code",
   "execution_count": null,
   "metadata": {},
   "outputs": [],
   "source": []
  }
 ]
}